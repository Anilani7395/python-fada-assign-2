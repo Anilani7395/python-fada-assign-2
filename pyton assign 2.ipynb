{
 "cells": [
  {
   "cell_type": "code",
   "execution_count": 3,
   "id": "f5a1a087",
   "metadata": {},
   "outputs": [],
   "source": [
    "def kmToMiles():\n",
    "    kiloMeters= float(input(\"enter no of kilometers:\"))\n",
    "    print(\"{} km is equal to {} miles\".format(kiloMeters*0.621))\n",
    "    \n",
    "    kmToMiles()"
   ]
  },
  {
   "cell_type": "code",
   "execution_count": null,
   "id": "da9c9b71",
   "metadata": {},
   "outputs": [],
   "source": [
    "kmToMiles()"
   ]
  },
  {
   "cell_type": "code",
   "execution_count": null,
   "id": "cfd07f06",
   "metadata": {},
   "outputs": [],
   "source": [
    "def celToFarh():\n",
    "    celsius=int(input(\"enter temperature in celsius:\"))\n",
    "    farenheit=(celsius*(9/5))+32\n",
    "    print(\"{} celsius is equal to {} farenheit\".format(celsius,farenheit))\n",
    "    \n",
    "celToFarh()    \n",
    "    "
   ]
  },
  {
   "cell_type": "code",
   "execution_count": 10,
   "id": "43bdf128",
   "metadata": {},
   "outputs": [],
   "source": [
    "import calendar\n",
    "\n",
    "def showCalendar():\n",
    "    year=int(input(\"enter calender year:\"))\n",
    "    print(calendar.calendar(year))\n",
    "        "
   ]
  },
  {
   "cell_type": "code",
   "execution_count": 11,
   "id": "9b081275",
   "metadata": {},
   "outputs": [
    {
     "name": "stdout",
     "output_type": "stream",
     "text": [
      "enter calender year:2022\n",
      "                                  2022\n",
      "\n",
      "      January                   February                   March\n",
      "Mo Tu We Th Fr Sa Su      Mo Tu We Th Fr Sa Su      Mo Tu We Th Fr Sa Su\n",
      "                1  2          1  2  3  4  5  6          1  2  3  4  5  6\n",
      " 3  4  5  6  7  8  9       7  8  9 10 11 12 13       7  8  9 10 11 12 13\n",
      "10 11 12 13 14 15 16      14 15 16 17 18 19 20      14 15 16 17 18 19 20\n",
      "17 18 19 20 21 22 23      21 22 23 24 25 26 27      21 22 23 24 25 26 27\n",
      "24 25 26 27 28 29 30      28                        28 29 30 31\n",
      "31\n",
      "\n",
      "       April                      May                       June\n",
      "Mo Tu We Th Fr Sa Su      Mo Tu We Th Fr Sa Su      Mo Tu We Th Fr Sa Su\n",
      "             1  2  3                         1             1  2  3  4  5\n",
      " 4  5  6  7  8  9 10       2  3  4  5  6  7  8       6  7  8  9 10 11 12\n",
      "11 12 13 14 15 16 17       9 10 11 12 13 14 15      13 14 15 16 17 18 19\n",
      "18 19 20 21 22 23 24      16 17 18 19 20 21 22      20 21 22 23 24 25 26\n",
      "25 26 27 28 29 30         23 24 25 26 27 28 29      27 28 29 30\n",
      "                          30 31\n",
      "\n",
      "        July                     August                  September\n",
      "Mo Tu We Th Fr Sa Su      Mo Tu We Th Fr Sa Su      Mo Tu We Th Fr Sa Su\n",
      "             1  2  3       1  2  3  4  5  6  7                1  2  3  4\n",
      " 4  5  6  7  8  9 10       8  9 10 11 12 13 14       5  6  7  8  9 10 11\n",
      "11 12 13 14 15 16 17      15 16 17 18 19 20 21      12 13 14 15 16 17 18\n",
      "18 19 20 21 22 23 24      22 23 24 25 26 27 28      19 20 21 22 23 24 25\n",
      "25 26 27 28 29 30 31      29 30 31                  26 27 28 29 30\n",
      "\n",
      "      October                   November                  December\n",
      "Mo Tu We Th Fr Sa Su      Mo Tu We Th Fr Sa Su      Mo Tu We Th Fr Sa Su\n",
      "                1  2          1  2  3  4  5  6                1  2  3  4\n",
      " 3  4  5  6  7  8  9       7  8  9 10 11 12 13       5  6  7  8  9 10 11\n",
      "10 11 12 13 14 15 16      14 15 16 17 18 19 20      12 13 14 15 16 17 18\n",
      "17 18 19 20 21 22 23      21 22 23 24 25 26 27      19 20 21 22 23 24 25\n",
      "24 25 26 27 28 29 30      28 29 30                  26 27 28 29 30 31\n",
      "31\n",
      "\n"
     ]
    }
   ],
   "source": [
    "showCalendar()"
   ]
  },
  {
   "cell_type": "code",
   "execution_count": 14,
   "id": "ae93ee9a",
   "metadata": {},
   "outputs": [
    {
     "name": "stdout",
     "output_type": "stream",
     "text": [
      "enetr first number:20\n",
      "enter second number:30\n",
      "before swapping 20 30\n",
      "before swapping 30 20\n"
     ]
    }
   ],
   "source": [
    "num_1=int(input('enetr first number:'))\n",
    "num_2=int(input('enter second number:'))\n",
    "\n",
    "def swapnumbers(num_1,num_2):\n",
    "    print('before swapping',num_1,num_2)\n",
    "    num_1=num_1+num_2\n",
    "    num_2=num_1-num_2\n",
    "    num_1=num_1-num_2\n",
    "    print('before swapping',num_1,num_2)\n",
    "    \n",
    "swapnumbers(num_1,num_2)    "
   ]
  },
  {
   "cell_type": "code",
   "execution_count": null,
   "id": "1dcd903d",
   "metadata": {},
   "outputs": [],
   "source": []
  }
 ],
 "metadata": {
  "kernelspec": {
   "display_name": "Python 3 (ipykernel)",
   "language": "python",
   "name": "python3"
  },
  "language_info": {
   "codemirror_mode": {
    "name": "ipython",
    "version": 3
   },
   "file_extension": ".py",
   "mimetype": "text/x-python",
   "name": "python",
   "nbconvert_exporter": "python",
   "pygments_lexer": "ipython3",
   "version": "3.9.12"
  }
 },
 "nbformat": 4,
 "nbformat_minor": 5
}
